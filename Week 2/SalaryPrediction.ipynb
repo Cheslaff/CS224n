{
  "nbformat": 4,
  "nbformat_minor": 0,
  "metadata": {
    "colab": {
      "provenance": [],
      "gpuType": "T4"
    },
    "kernelspec": {
      "name": "python3",
      "display_name": "Python 3"
    },
    "language_info": {
      "name": "python"
    },
    "accelerator": "GPU"
  },
  "cells": [
    {
      "cell_type": "markdown",
      "source": [
        "# **Salary Prediction**\n",
        "In this notebook, I practice my data preprocessing skills buy most importantly my Natural Language Processing skills.<br>\n",
        "I was inspired by the [YSDA NLP course](https://github.com/yandexdataschool/nlp_course/tree/2024) and I decided to build such system myself, not relying on Yandexoid code but learn by building, through trial and error.<br>\n",
        "Let's predict YOUR salary!<br>\n",
        "<img src=\"https://external-preview.redd.it/F6s6chz1GKo4sjwxCxx-kUWpmiqZvZrtuk51ZvcvZ7s.jpg?auto=webp&s=23c573d580257b2388ac27d768d2543c40decdb4\" width=20%>"
      ],
      "metadata": {
        "id": "G9EcnvFkOY2N"
      }
    },
    {
      "cell_type": "code",
      "execution_count": 1,
      "metadata": {
        "id": "ICVMO3Q0OV4Z"
      },
      "outputs": [],
      "source": [
        "import pandas as pd\n",
        "import matplotlib.pyplot as plt\n",
        "import numpy as np\n",
        "from nltk.tokenize import WordPunctTokenizer\n",
        "from collections import Counter\n",
        "from tqdm import tqdm\n",
        "\n",
        "import torch\n",
        "from torch import nn\n",
        "from torch import optim\n",
        "from torch.nn import functional as F"
      ]
    },
    {
      "cell_type": "code",
      "source": [
        "device = \"cuda\" if torch.cuda.is_available() else \"cpu\"\n",
        "device"
      ],
      "metadata": {
        "colab": {
          "base_uri": "https://localhost:8080/",
          "height": 35
        },
        "id": "GLkvY6bxI2sh",
        "outputId": "71674e8e-70a9-4b3e-b3fb-ee1fd7647d57"
      },
      "execution_count": 2,
      "outputs": [
        {
          "output_type": "execute_result",
          "data": {
            "text/plain": [
              "'cuda'"
            ],
            "application/vnd.google.colaboratory.intrinsic+json": {
              "type": "string"
            }
          },
          "metadata": {},
          "execution_count": 2
        }
      ]
    },
    {
      "cell_type": "code",
      "source": [
        "df = pd.read_csv(\"Train_rev1.zip\", compression=\"zip\")\n",
        "df.head()"
      ],
      "metadata": {
        "colab": {
          "base_uri": "https://localhost:8080/",
          "height": 522
        },
        "id": "YjMwXhGRQM3D",
        "outputId": "3963d23c-8c53-4430-b495-e8f1aff60073"
      },
      "execution_count": 3,
      "outputs": [
        {
          "output_type": "execute_result",
          "data": {
            "text/plain": [
              "         Id                                              Title  \\\n",
              "0  12612628                        Engineering Systems Analyst   \n",
              "1  12612830                            Stress Engineer Glasgow   \n",
              "2  12612844                   Modelling and simulation analyst   \n",
              "3  12613049  Engineering Systems Analyst / Mathematical Mod...   \n",
              "4  12613647         Pioneer, Miser Engineering Systems Analyst   \n",
              "\n",
              "                                     FullDescription  \\\n",
              "0  Engineering Systems Analyst Dorking Surrey Sal...   \n",
              "1  Stress Engineer Glasgow Salary **** to **** We...   \n",
              "2  Mathematical Modeller / Simulation Analyst / O...   \n",
              "3  Engineering Systems Analyst / Mathematical Mod...   \n",
              "4  Pioneer, Miser  Engineering Systems Analyst Do...   \n",
              "\n",
              "                         LocationRaw LocationNormalized ContractType  \\\n",
              "0            Dorking, Surrey, Surrey            Dorking          NaN   \n",
              "1        Glasgow, Scotland, Scotland            Glasgow          NaN   \n",
              "2  Hampshire, South East, South East          Hampshire          NaN   \n",
              "3     Surrey, South East, South East             Surrey          NaN   \n",
              "4     Surrey, South East, South East             Surrey          NaN   \n",
              "\n",
              "  ContractTime                       Company          Category  \\\n",
              "0    permanent  Gregory Martin International  Engineering Jobs   \n",
              "1    permanent  Gregory Martin International  Engineering Jobs   \n",
              "2    permanent  Gregory Martin International  Engineering Jobs   \n",
              "3    permanent  Gregory Martin International  Engineering Jobs   \n",
              "4    permanent  Gregory Martin International  Engineering Jobs   \n",
              "\n",
              "                                SalaryRaw  SalaryNormalized        SourceName  \n",
              "0              20000 - 30000/annum 20-30K             25000  cv-library.co.uk  \n",
              "1              25000 - 35000/annum 25-35K             30000  cv-library.co.uk  \n",
              "2              20000 - 40000/annum 20-40K             30000  cv-library.co.uk  \n",
              "3  25000 - 30000/annum 25K-30K negotiable             27500  cv-library.co.uk  \n",
              "4              20000 - 30000/annum 20-30K             25000  cv-library.co.uk  "
            ],
            "text/html": [
              "\n",
              "  <div id=\"df-4b88f1f1-3064-473b-b528-6710e1fc4ca5\" class=\"colab-df-container\">\n",
              "    <div>\n",
              "<style scoped>\n",
              "    .dataframe tbody tr th:only-of-type {\n",
              "        vertical-align: middle;\n",
              "    }\n",
              "\n",
              "    .dataframe tbody tr th {\n",
              "        vertical-align: top;\n",
              "    }\n",
              "\n",
              "    .dataframe thead th {\n",
              "        text-align: right;\n",
              "    }\n",
              "</style>\n",
              "<table border=\"1\" class=\"dataframe\">\n",
              "  <thead>\n",
              "    <tr style=\"text-align: right;\">\n",
              "      <th></th>\n",
              "      <th>Id</th>\n",
              "      <th>Title</th>\n",
              "      <th>FullDescription</th>\n",
              "      <th>LocationRaw</th>\n",
              "      <th>LocationNormalized</th>\n",
              "      <th>ContractType</th>\n",
              "      <th>ContractTime</th>\n",
              "      <th>Company</th>\n",
              "      <th>Category</th>\n",
              "      <th>SalaryRaw</th>\n",
              "      <th>SalaryNormalized</th>\n",
              "      <th>SourceName</th>\n",
              "    </tr>\n",
              "  </thead>\n",
              "  <tbody>\n",
              "    <tr>\n",
              "      <th>0</th>\n",
              "      <td>12612628</td>\n",
              "      <td>Engineering Systems Analyst</td>\n",
              "      <td>Engineering Systems Analyst Dorking Surrey Sal...</td>\n",
              "      <td>Dorking, Surrey, Surrey</td>\n",
              "      <td>Dorking</td>\n",
              "      <td>NaN</td>\n",
              "      <td>permanent</td>\n",
              "      <td>Gregory Martin International</td>\n",
              "      <td>Engineering Jobs</td>\n",
              "      <td>20000 - 30000/annum 20-30K</td>\n",
              "      <td>25000</td>\n",
              "      <td>cv-library.co.uk</td>\n",
              "    </tr>\n",
              "    <tr>\n",
              "      <th>1</th>\n",
              "      <td>12612830</td>\n",
              "      <td>Stress Engineer Glasgow</td>\n",
              "      <td>Stress Engineer Glasgow Salary **** to **** We...</td>\n",
              "      <td>Glasgow, Scotland, Scotland</td>\n",
              "      <td>Glasgow</td>\n",
              "      <td>NaN</td>\n",
              "      <td>permanent</td>\n",
              "      <td>Gregory Martin International</td>\n",
              "      <td>Engineering Jobs</td>\n",
              "      <td>25000 - 35000/annum 25-35K</td>\n",
              "      <td>30000</td>\n",
              "      <td>cv-library.co.uk</td>\n",
              "    </tr>\n",
              "    <tr>\n",
              "      <th>2</th>\n",
              "      <td>12612844</td>\n",
              "      <td>Modelling and simulation analyst</td>\n",
              "      <td>Mathematical Modeller / Simulation Analyst / O...</td>\n",
              "      <td>Hampshire, South East, South East</td>\n",
              "      <td>Hampshire</td>\n",
              "      <td>NaN</td>\n",
              "      <td>permanent</td>\n",
              "      <td>Gregory Martin International</td>\n",
              "      <td>Engineering Jobs</td>\n",
              "      <td>20000 - 40000/annum 20-40K</td>\n",
              "      <td>30000</td>\n",
              "      <td>cv-library.co.uk</td>\n",
              "    </tr>\n",
              "    <tr>\n",
              "      <th>3</th>\n",
              "      <td>12613049</td>\n",
              "      <td>Engineering Systems Analyst / Mathematical Mod...</td>\n",
              "      <td>Engineering Systems Analyst / Mathematical Mod...</td>\n",
              "      <td>Surrey, South East, South East</td>\n",
              "      <td>Surrey</td>\n",
              "      <td>NaN</td>\n",
              "      <td>permanent</td>\n",
              "      <td>Gregory Martin International</td>\n",
              "      <td>Engineering Jobs</td>\n",
              "      <td>25000 - 30000/annum 25K-30K negotiable</td>\n",
              "      <td>27500</td>\n",
              "      <td>cv-library.co.uk</td>\n",
              "    </tr>\n",
              "    <tr>\n",
              "      <th>4</th>\n",
              "      <td>12613647</td>\n",
              "      <td>Pioneer, Miser Engineering Systems Analyst</td>\n",
              "      <td>Pioneer, Miser  Engineering Systems Analyst Do...</td>\n",
              "      <td>Surrey, South East, South East</td>\n",
              "      <td>Surrey</td>\n",
              "      <td>NaN</td>\n",
              "      <td>permanent</td>\n",
              "      <td>Gregory Martin International</td>\n",
              "      <td>Engineering Jobs</td>\n",
              "      <td>20000 - 30000/annum 20-30K</td>\n",
              "      <td>25000</td>\n",
              "      <td>cv-library.co.uk</td>\n",
              "    </tr>\n",
              "  </tbody>\n",
              "</table>\n",
              "</div>\n",
              "    <div class=\"colab-df-buttons\">\n",
              "\n",
              "  <div class=\"colab-df-container\">\n",
              "    <button class=\"colab-df-convert\" onclick=\"convertToInteractive('df-4b88f1f1-3064-473b-b528-6710e1fc4ca5')\"\n",
              "            title=\"Convert this dataframe to an interactive table.\"\n",
              "            style=\"display:none;\">\n",
              "\n",
              "  <svg xmlns=\"http://www.w3.org/2000/svg\" height=\"24px\" viewBox=\"0 -960 960 960\">\n",
              "    <path d=\"M120-120v-720h720v720H120Zm60-500h600v-160H180v160Zm220 220h160v-160H400v160Zm0 220h160v-160H400v160ZM180-400h160v-160H180v160Zm440 0h160v-160H620v160ZM180-180h160v-160H180v160Zm440 0h160v-160H620v160Z\"/>\n",
              "  </svg>\n",
              "    </button>\n",
              "\n",
              "  <style>\n",
              "    .colab-df-container {\n",
              "      display:flex;\n",
              "      gap: 12px;\n",
              "    }\n",
              "\n",
              "    .colab-df-convert {\n",
              "      background-color: #E8F0FE;\n",
              "      border: none;\n",
              "      border-radius: 50%;\n",
              "      cursor: pointer;\n",
              "      display: none;\n",
              "      fill: #1967D2;\n",
              "      height: 32px;\n",
              "      padding: 0 0 0 0;\n",
              "      width: 32px;\n",
              "    }\n",
              "\n",
              "    .colab-df-convert:hover {\n",
              "      background-color: #E2EBFA;\n",
              "      box-shadow: 0px 1px 2px rgba(60, 64, 67, 0.3), 0px 1px 3px 1px rgba(60, 64, 67, 0.15);\n",
              "      fill: #174EA6;\n",
              "    }\n",
              "\n",
              "    .colab-df-buttons div {\n",
              "      margin-bottom: 4px;\n",
              "    }\n",
              "\n",
              "    [theme=dark] .colab-df-convert {\n",
              "      background-color: #3B4455;\n",
              "      fill: #D2E3FC;\n",
              "    }\n",
              "\n",
              "    [theme=dark] .colab-df-convert:hover {\n",
              "      background-color: #434B5C;\n",
              "      box-shadow: 0px 1px 3px 1px rgba(0, 0, 0, 0.15);\n",
              "      filter: drop-shadow(0px 1px 2px rgba(0, 0, 0, 0.3));\n",
              "      fill: #FFFFFF;\n",
              "    }\n",
              "  </style>\n",
              "\n",
              "    <script>\n",
              "      const buttonEl =\n",
              "        document.querySelector('#df-4b88f1f1-3064-473b-b528-6710e1fc4ca5 button.colab-df-convert');\n",
              "      buttonEl.style.display =\n",
              "        google.colab.kernel.accessAllowed ? 'block' : 'none';\n",
              "\n",
              "      async function convertToInteractive(key) {\n",
              "        const element = document.querySelector('#df-4b88f1f1-3064-473b-b528-6710e1fc4ca5');\n",
              "        const dataTable =\n",
              "          await google.colab.kernel.invokeFunction('convertToInteractive',\n",
              "                                                    [key], {});\n",
              "        if (!dataTable) return;\n",
              "\n",
              "        const docLinkHtml = 'Like what you see? Visit the ' +\n",
              "          '<a target=\"_blank\" href=https://colab.research.google.com/notebooks/data_table.ipynb>data table notebook</a>'\n",
              "          + ' to learn more about interactive tables.';\n",
              "        element.innerHTML = '';\n",
              "        dataTable['output_type'] = 'display_data';\n",
              "        await google.colab.output.renderOutput(dataTable, element);\n",
              "        const docLink = document.createElement('div');\n",
              "        docLink.innerHTML = docLinkHtml;\n",
              "        element.appendChild(docLink);\n",
              "      }\n",
              "    </script>\n",
              "  </div>\n",
              "\n",
              "\n",
              "    <div id=\"df-0011a74a-d461-46e3-bddd-0378af10085f\">\n",
              "      <button class=\"colab-df-quickchart\" onclick=\"quickchart('df-0011a74a-d461-46e3-bddd-0378af10085f')\"\n",
              "                title=\"Suggest charts\"\n",
              "                style=\"display:none;\">\n",
              "\n",
              "<svg xmlns=\"http://www.w3.org/2000/svg\" height=\"24px\"viewBox=\"0 0 24 24\"\n",
              "     width=\"24px\">\n",
              "    <g>\n",
              "        <path d=\"M19 3H5c-1.1 0-2 .9-2 2v14c0 1.1.9 2 2 2h14c1.1 0 2-.9 2-2V5c0-1.1-.9-2-2-2zM9 17H7v-7h2v7zm4 0h-2V7h2v10zm4 0h-2v-4h2v4z\"/>\n",
              "    </g>\n",
              "</svg>\n",
              "      </button>\n",
              "\n",
              "<style>\n",
              "  .colab-df-quickchart {\n",
              "      --bg-color: #E8F0FE;\n",
              "      --fill-color: #1967D2;\n",
              "      --hover-bg-color: #E2EBFA;\n",
              "      --hover-fill-color: #174EA6;\n",
              "      --disabled-fill-color: #AAA;\n",
              "      --disabled-bg-color: #DDD;\n",
              "  }\n",
              "\n",
              "  [theme=dark] .colab-df-quickchart {\n",
              "      --bg-color: #3B4455;\n",
              "      --fill-color: #D2E3FC;\n",
              "      --hover-bg-color: #434B5C;\n",
              "      --hover-fill-color: #FFFFFF;\n",
              "      --disabled-bg-color: #3B4455;\n",
              "      --disabled-fill-color: #666;\n",
              "  }\n",
              "\n",
              "  .colab-df-quickchart {\n",
              "    background-color: var(--bg-color);\n",
              "    border: none;\n",
              "    border-radius: 50%;\n",
              "    cursor: pointer;\n",
              "    display: none;\n",
              "    fill: var(--fill-color);\n",
              "    height: 32px;\n",
              "    padding: 0;\n",
              "    width: 32px;\n",
              "  }\n",
              "\n",
              "  .colab-df-quickchart:hover {\n",
              "    background-color: var(--hover-bg-color);\n",
              "    box-shadow: 0 1px 2px rgba(60, 64, 67, 0.3), 0 1px 3px 1px rgba(60, 64, 67, 0.15);\n",
              "    fill: var(--button-hover-fill-color);\n",
              "  }\n",
              "\n",
              "  .colab-df-quickchart-complete:disabled,\n",
              "  .colab-df-quickchart-complete:disabled:hover {\n",
              "    background-color: var(--disabled-bg-color);\n",
              "    fill: var(--disabled-fill-color);\n",
              "    box-shadow: none;\n",
              "  }\n",
              "\n",
              "  .colab-df-spinner {\n",
              "    border: 2px solid var(--fill-color);\n",
              "    border-color: transparent;\n",
              "    border-bottom-color: var(--fill-color);\n",
              "    animation:\n",
              "      spin 1s steps(1) infinite;\n",
              "  }\n",
              "\n",
              "  @keyframes spin {\n",
              "    0% {\n",
              "      border-color: transparent;\n",
              "      border-bottom-color: var(--fill-color);\n",
              "      border-left-color: var(--fill-color);\n",
              "    }\n",
              "    20% {\n",
              "      border-color: transparent;\n",
              "      border-left-color: var(--fill-color);\n",
              "      border-top-color: var(--fill-color);\n",
              "    }\n",
              "    30% {\n",
              "      border-color: transparent;\n",
              "      border-left-color: var(--fill-color);\n",
              "      border-top-color: var(--fill-color);\n",
              "      border-right-color: var(--fill-color);\n",
              "    }\n",
              "    40% {\n",
              "      border-color: transparent;\n",
              "      border-right-color: var(--fill-color);\n",
              "      border-top-color: var(--fill-color);\n",
              "    }\n",
              "    60% {\n",
              "      border-color: transparent;\n",
              "      border-right-color: var(--fill-color);\n",
              "    }\n",
              "    80% {\n",
              "      border-color: transparent;\n",
              "      border-right-color: var(--fill-color);\n",
              "      border-bottom-color: var(--fill-color);\n",
              "    }\n",
              "    90% {\n",
              "      border-color: transparent;\n",
              "      border-bottom-color: var(--fill-color);\n",
              "    }\n",
              "  }\n",
              "</style>\n",
              "\n",
              "      <script>\n",
              "        async function quickchart(key) {\n",
              "          const quickchartButtonEl =\n",
              "            document.querySelector('#' + key + ' button');\n",
              "          quickchartButtonEl.disabled = true;  // To prevent multiple clicks.\n",
              "          quickchartButtonEl.classList.add('colab-df-spinner');\n",
              "          try {\n",
              "            const charts = await google.colab.kernel.invokeFunction(\n",
              "                'suggestCharts', [key], {});\n",
              "          } catch (error) {\n",
              "            console.error('Error during call to suggestCharts:', error);\n",
              "          }\n",
              "          quickchartButtonEl.classList.remove('colab-df-spinner');\n",
              "          quickchartButtonEl.classList.add('colab-df-quickchart-complete');\n",
              "        }\n",
              "        (() => {\n",
              "          let quickchartButtonEl =\n",
              "            document.querySelector('#df-0011a74a-d461-46e3-bddd-0378af10085f button');\n",
              "          quickchartButtonEl.style.display =\n",
              "            google.colab.kernel.accessAllowed ? 'block' : 'none';\n",
              "        })();\n",
              "      </script>\n",
              "    </div>\n",
              "    </div>\n",
              "  </div>\n"
            ],
            "application/vnd.google.colaboratory.intrinsic+json": {
              "type": "dataframe",
              "variable_name": "df"
            }
          },
          "metadata": {},
          "execution_count": 3
        }
      ]
    },
    {
      "cell_type": "code",
      "source": [
        "df[\"SalaryNormalized\"].hist();  # Saray frequency"
      ],
      "metadata": {
        "colab": {
          "base_uri": "https://localhost:8080/",
          "height": 430
        },
        "id": "-ymw_HsiQpf2",
        "outputId": "7290fcc8-6f9e-468a-978d-be7ca436a6af"
      },
      "execution_count": 4,
      "outputs": [
        {
          "output_type": "display_data",
          "data": {
            "text/plain": [
              "<Figure size 640x480 with 1 Axes>"
            ],
            "image/png": "[encoded data removed]"
          },
          "metadata": {}
        }
      ]
    },
    {
      "cell_type": "markdown",
      "source": [
        "Okay, as we can see our target is skewed.<br>\n",
        "Sadly, most of the people earn low-mid level salaries.<br>\n",
        "This is not only a social problem, but also a data scientist headache, because we need to fix this inaquality!"
      ],
      "metadata": {
        "id": "VUdl7z0NRqpL"
      }
    },
    {
      "cell_type": "code",
      "source": [
        "# Log-transform of the data\n",
        "df[\"SalaryNormalized\"] = np.log(df[\"SalaryNormalized\"])\n",
        "df[\"SalaryNormalized\"].hist();  # Congrats! Now you earn log-dollars!"
      ],
      "metadata": {
        "colab": {
          "base_uri": "https://localhost:8080/",
          "height": 430
        },
        "id": "jkI76huuRomh",
        "outputId": "adc6db66-6f2d-4777-900e-7ad5a2645373"
      },
      "execution_count": 5,
      "outputs": [
        {
          "output_type": "display_data",
          "data": {
            "text/plain": [
              "<Figure size 640x480 with 1 Axes>"
            ],
            "image/png": "[encoded data removed]"
          },
          "metadata": {}
        }
      ]
    },
    {
      "cell_type": "markdown",
      "source": [
        "But how do I know my actual salary? I don't want to live in the world of log dollars!<br>\n",
        "No worries, exp does the biz!<br>\n",
        "Now let's preprocess text data"
      ],
      "metadata": {
        "id": "oq9KNIRDU1Z4"
      }
    },
    {
      "cell_type": "code",
      "source": [
        "# Count word frequency\n",
        "\n",
        "# Replace rare words with UNK\n",
        "\n",
        "# Train Word2Vec\n",
        "\n",
        "# Extract batches of text and convert into embeddings"
      ],
      "metadata": {
        "id": "ecrxpWjsUAEb"
      },
      "execution_count": 6,
      "outputs": []
    },
    {
      "cell_type": "code",
      "source": [
        "tokenizer = WordPunctTokenizer()\n",
        "\n",
        "df[\"Title\"] = df[\"Title\"].apply(lambda x: \" \".join(tokenizer.tokenize(str(x))).lower())\n",
        "df[\"FullDescription\"] = df[\"FullDescription\"].apply(lambda x: \" \".join(tokenizer.tokenize(str(x))).lower())"
      ],
      "metadata": {
        "id": "aZM7J2wjMEnl"
      },
      "execution_count": 7,
      "outputs": []
    },
    {
      "cell_type": "code",
      "source": [
        "df.head()"
      ],
      "metadata": {
        "colab": {
          "base_uri": "https://localhost:8080/",
          "height": 522
        },
        "id": "u7dD1Wk5QRgP",
        "outputId": "aad6b0fb-c8e2-40f5-eada-4e703ffda0c4"
      },
      "execution_count": 8,
      "outputs": [
        {
          "output_type": "execute_result",
          "data": {
            "text/plain": [
              "         Id                                              Title  \\\n",
              "0  12612628                        engineering systems analyst   \n",
              "1  12612830                            stress engineer glasgow   \n",
              "2  12612844                   modelling and simulation analyst   \n",
              "3  12613049  engineering systems analyst / mathematical mod...   \n",
              "4  12613647        pioneer , miser engineering systems analyst   \n",
              "\n",
              "                                     FullDescription  \\\n",
              "0  engineering systems analyst dorking surrey sal...   \n",
              "1  stress engineer glasgow salary **** to **** we...   \n",
              "2  mathematical modeller / simulation analyst / o...   \n",
              "3  engineering systems analyst / mathematical mod...   \n",
              "4  pioneer , miser engineering systems analyst do...   \n",
              "\n",
              "                         LocationRaw LocationNormalized ContractType  \\\n",
              "0            Dorking, Surrey, Surrey            Dorking          NaN   \n",
              "1        Glasgow, Scotland, Scotland            Glasgow          NaN   \n",
              "2  Hampshire, South East, South East          Hampshire          NaN   \n",
              "3     Surrey, South East, South East             Surrey          NaN   \n",
              "4     Surrey, South East, South East             Surrey          NaN   \n",
              "\n",
              "  ContractTime                       Company          Category  \\\n",
              "0    permanent  Gregory Martin International  Engineering Jobs   \n",
              "1    permanent  Gregory Martin International  Engineering Jobs   \n",
              "2    permanent  Gregory Martin International  Engineering Jobs   \n",
              "3    permanent  Gregory Martin International  Engineering Jobs   \n",
              "4    permanent  Gregory Martin International  Engineering Jobs   \n",
              "\n",
              "                                SalaryRaw  SalaryNormalized        SourceName  \n",
              "0              20000 - 30000/annum 20-30K         10.126631  cv-library.co.uk  \n",
              "1              25000 - 35000/annum 25-35K         10.308953  cv-library.co.uk  \n",
              "2              20000 - 40000/annum 20-40K         10.308953  cv-library.co.uk  \n",
              "3  25000 - 30000/annum 25K-30K negotiable         10.221941  cv-library.co.uk  \n",
              "4              20000 - 30000/annum 20-30K         10.126631  cv-library.co.uk  "
            ],
            "text/html": [
              "\n",
              "  <div id=\"df-a7599c16-4b40-4c9d-b09e-cd2fb2f2aeee\" class=\"colab-df-container\">\n",
              "    <div>\n",
              "<style scoped>\n",
              "    .dataframe tbody tr th:only-of-type {\n",
              "        vertical-align: middle;\n",
              "    }\n",
              "\n",
              "    .dataframe tbody tr th {\n",
              "        vertical-align: top;\n",
              "    }\n",
              "\n",
              "    .dataframe thead th {\n",
              "        text-align: right;\n",
              "    }\n",
              "</style>\n",
              "<table border=\"1\" class=\"dataframe\">\n",
              "  <thead>\n",
              "    <tr style=\"text-align: right;\">\n",
              "      <th></th>\n",
              "      <th>Id</th>\n",
              "      <th>Title</th>\n",
              "      <th>FullDescription</th>\n",
              "      <th>LocationRaw</th>\n",
              "      <th>LocationNormalized</th>\n",
              "      <th>ContractType</th>\n",
              "      <th>ContractTime</th>\n",
              "      <th>Company</th>\n",
              "      <th>Category</th>\n",
              "      <th>SalaryRaw</th>\n",
              "      <th>SalaryNormalized</th>\n",
              "      <th>SourceName</th>\n",
              "    </tr>\n",
              "  </thead>\n",
              "  <tbody>\n",
              "    <tr>\n",
              "      <th>0</th>\n",
              "      <td>12612628</td>\n",
              "      <td>engineering systems analyst</td>\n",
              "      <td>engineering systems analyst dorking surrey sal...</td>\n",
              "      <td>Dorking, Surrey, Surrey</td>\n",
              "      <td>Dorking</td>\n",
              "      <td>NaN</td>\n",
              "      <td>permanent</td>\n",
              "      <td>Gregory Martin International</td>\n",
              "      <td>Engineering Jobs</td>\n",
              "      <td>20000 - 30000/annum 20-30K</td>\n",
              "      <td>10.126631</td>\n",
              "      <td>cv-library.co.uk</td>\n",
              "    </tr>\n",
              "    <tr>\n",
              "      <th>1</th>\n",
              "      <td>12612830</td>\n",
              "      <td>stress engineer glasgow</td>\n",
              "      <td>stress engineer glasgow salary **** to **** we...</td>\n",
              "      <td>Glasgow, Scotland, Scotland</td>\n",
              "      <td>Glasgow</td>\n",
              "      <td>NaN</td>\n",
              "      <td>permanent</td>\n",
              "      <td>Gregory Martin International</td>\n",
              "      <td>Engineering Jobs</td>\n",
              "      <td>25000 - 35000/annum 25-35K</td>\n",
              "      <td>10.308953</td>\n",
              "      <td>cv-library.co.uk</td>\n",
              "    </tr>\n",
              "    <tr>\n",
              "      <th>2</th>\n",
              "      <td>12612844</td>\n",
              "      <td>modelling and simulation analyst</td>\n",
              "      <td>mathematical modeller / simulation analyst / o...</td>\n",
              "      <td>Hampshire, South East, South East</td>\n",
              "      <td>Hampshire</td>\n",
              "      <td>NaN</td>\n",
              "      <td>permanent</td>\n",
              "      <td>Gregory Martin International</td>\n",
              "      <td>Engineering Jobs</td>\n",
              "      <td>20000 - 40000/annum 20-40K</td>\n",
              "      <td>10.308953</td>\n",
              "      <td>cv-library.co.uk</td>\n",
              "    </tr>\n",
              "    <tr>\n",
              "      <th>3</th>\n",
              "      <td>12613049</td>\n",
              "      <td>engineering systems analyst / mathematical mod...</td>\n",
              "      <td>engineering systems analyst / mathematical mod...</td>\n",
              "      <td>Surrey, South East, South East</td>\n",
              "      <td>Surrey</td>\n",
              "      <td>NaN</td>\n",
              "      <td>permanent</td>\n",
              "      <td>Gregory Martin International</td>\n",
              "      <td>Engineering Jobs</td>\n",
              "      <td>25000 - 30000/annum 25K-30K negotiable</td>\n",
              "      <td>10.221941</td>\n",
              "      <td>cv-library.co.uk</td>\n",
              "    </tr>\n",
              "    <tr>\n",
              "      <th>4</th>\n",
              "      <td>12613647</td>\n",
              "      <td>pioneer , miser engineering systems analyst</td>\n",
              "      <td>pioneer , miser engineering systems analyst do...</td>\n",
              "      <td>Surrey, South East, South East</td>\n",
              "      <td>Surrey</td>\n",
              "      <td>NaN</td>\n",
              "      <td>permanent</td>\n",
              "      <td>Gregory Martin International</td>\n",
              "      <td>Engineering Jobs</td>\n",
              "      <td>20000 - 30000/annum 20-30K</td>\n",
              "      <td>10.126631</td>\n",
              "      <td>cv-library.co.uk</td>\n",
              "    </tr>\n",
              "  </tbody>\n",
              "</table>\n",
              "</div>\n",
              "    <div class=\"colab-df-buttons\">\n",
              "\n",
              "  <div class=\"colab-df-container\">\n",
              "    <button class=\"colab-df-convert\" onclick=\"convertToInteractive('df-a7599c16-4b40-4c9d-b09e-cd2fb2f2aeee')\"\n",
              "            title=\"Convert this dataframe to an interactive table.\"\n",
              "            style=\"display:none;\">\n",
              "\n",
              "  <svg xmlns=\"http://www.w3.org/2000/svg\" height=\"24px\" viewBox=\"0 -960 960 960\">\n",
              "    <path d=\"M120-120v-720h720v720H120Zm60-500h600v-160H180v160Zm220 220h160v-160H400v160Zm0 220h160v-160H400v160ZM180-400h160v-160H180v160Zm440 0h160v-160H620v160ZM180-180h160v-160H180v160Zm440 0h160v-160H620v160Z\"/>\n",
              "  </svg>\n",
              "    </button>\n",
              "\n",
              "  <style>\n",
              "    .colab-df-container {\n",
              "      display:flex;\n",
              "      gap: 12px;\n",
              "    }\n",
              "\n",
              "    .colab-df-convert {\n",
              "      background-color: #E8F0FE;\n",
              "      border: none;\n",
              "      border-radius: 50%;\n",
              "      cursor: pointer;\n",
              "      display: none;\n",
              "      fill: #1967D2;\n",
              "      height: 32px;\n",
              "      padding: 0 0 0 0;\n",
              "      width: 32px;\n",
              "    }\n",
              "\n",
              "    .colab-df-convert:hover {\n",
              "      background-color: #E2EBFA;\n",
              "      box-shadow: 0px 1px 2px rgba(60, 64, 67, 0.3), 0px 1px 3px 1px rgba(60, 64, 67, 0.15);\n",
              "      fill: #174EA6;\n",
              "    }\n",
              "\n",
              "    .colab-df-buttons div {\n",
              "      margin-bottom: 4px;\n",
              "    }\n",
              "\n",
              "    [theme=dark] .colab-df-convert {\n",
              "      background-color: #3B4455;\n",
              "      fill: #D2E3FC;\n",
              "    }\n",
              "\n",
              "    [theme=dark] .colab-df-convert:hover {\n",
              "      background-color: #434B5C;\n",
              "      box-shadow: 0px 1px 3px 1px rgba(0, 0, 0, 0.15);\n",
              "      filter: drop-shadow(0px 1px 2px rgba(0, 0, 0, 0.3));\n",
              "      fill: #FFFFFF;\n",
              "    }\n",
              "  </style>\n",
              "\n",
              "    <script>\n",
              "      const buttonEl =\n",
              "        document.querySelector('#df-a7599c16-4b40-4c9d-b09e-cd2fb2f2aeee button.colab-df-convert');\n",
              "      buttonEl.style.display =\n",
              "        google.colab.kernel.accessAllowed ? 'block' : 'none';\n",
              "\n",
              "      async function convertToInteractive(key) {\n",
              "        const element = document.querySelector('#df-a7599c16-4b40-4c9d-b09e-cd2fb2f2aeee');\n",
              "        const dataTable =\n",
              "          await google.colab.kernel.invokeFunction('convertToInteractive',\n",
              "                                                    [key], {});\n",
              "        if (!dataTable) return;\n",
              "\n",
              "        const docLinkHtml = 'Like what you see? Visit the ' +\n",
              "          '<a target=\"_blank\" href=https://colab.research.google.com/notebooks/data_table.ipynb>data table notebook</a>'\n",
              "          + ' to learn more about interactive tables.';\n",
              "        element.innerHTML = '';\n",
              "        dataTable['output_type'] = 'display_data';\n",
              "        await google.colab.output.renderOutput(dataTable, element);\n",
              "        const docLink = document.createElement('div');\n",
              "        docLink.innerHTML = docLinkHtml;\n",
              "        element.appendChild(docLink);\n",
              "      }\n",
              "    </script>\n",
              "  </div>\n",
              "\n",
              "\n",
              "    <div id=\"df-a1f5fe59-5e6d-4d14-a111-a6a0745ff193\">\n",
              "      <button class=\"colab-df-quickchart\" onclick=\"quickchart('df-a1f5fe59-5e6d-4d14-a111-a6a0745ff193')\"\n",
              "                title=\"Suggest charts\"\n",
              "                style=\"display:none;\">\n",
              "\n",
              "<svg xmlns=\"http://www.w3.org/2000/svg\" height=\"24px\"viewBox=\"0 0 24 24\"\n",
              "     width=\"24px\">\n",
              "    <g>\n",
              "        <path d=\"M19 3H5c-1.1 0-2 .9-2 2v14c0 1.1.9 2 2 2h14c1.1 0 2-.9 2-2V5c0-1.1-.9-2-2-2zM9 17H7v-7h2v7zm4 0h-2V7h2v10zm4 0h-2v-4h2v4z\"/>\n",
              "    </g>\n",
              "</svg>\n",
              "      </button>\n",
              "\n",
              "<style>\n",
              "  .colab-df-quickchart {\n",
              "      --bg-color: #E8F0FE;\n",
              "      --fill-color: #1967D2;\n",
              "      --hover-bg-color: #E2EBFA;\n",
              "      --hover-fill-color: #174EA6;\n",
              "      --disabled-fill-color: #AAA;\n",
              "      --disabled-bg-color: #DDD;\n",
              "  }\n",
              "\n",
              "  [theme=dark] .colab-df-quickchart {\n",
              "      --bg-color: #3B4455;\n",
              "      --fill-color: #D2E3FC;\n",
              "      --hover-bg-color: #434B5C;\n",
              "      --hover-fill-color: #FFFFFF;\n",
              "      --disabled-bg-color: #3B4455;\n",
              "      --disabled-fill-color: #666;\n",
              "  }\n",
              "\n",
              "  .colab-df-quickchart {\n",
              "    background-color: var(--bg-color);\n",
              "    border: none;\n",
              "    border-radius: 50%;\n",
              "    cursor: pointer;\n",
              "    display: none;\n",
              "    fill: var(--fill-color);\n",
              "    height: 32px;\n",
              "    padding: 0;\n",
              "    width: 32px;\n",
              "  }\n",
              "\n",
              "  .colab-df-quickchart:hover {\n",
              "    background-color: var(--hover-bg-color);\n",
              "    box-shadow: 0 1px 2px rgba(60, 64, 67, 0.3), 0 1px 3px 1px rgba(60, 64, 67, 0.15);\n",
              "    fill: var(--button-hover-fill-color);\n",
              "  }\n",
              "\n",
              "  .colab-df-quickchart-complete:disabled,\n",
              "  .colab-df-quickchart-complete:disabled:hover {\n",
              "    background-color: var(--disabled-bg-color);\n",
              "    fill: var(--disabled-fill-color);\n",
              "    box-shadow: none;\n",
              "  }\n",
              "\n",
              "  .colab-df-spinner {\n",
              "    border: 2px solid var(--fill-color);\n",
              "    border-color: transparent;\n",
              "    border-bottom-color: var(--fill-color);\n",
              "    animation:\n",
              "      spin 1s steps(1) infinite;\n",
              "  }\n",
              "\n",
              "  @keyframes spin {\n",
              "    0% {\n",
              "      border-color: transparent;\n",
              "      border-bottom-color: var(--fill-color);\n",
              "      border-left-color: var(--fill-color);\n",
              "    }\n",
              "    20% {\n",
              "      border-color: transparent;\n",
              "      border-left-color: var(--fill-color);\n",
              "      border-top-color: var(--fill-color);\n",
              "    }\n",
              "    30% {\n",
              "      border-color: transparent;\n",
              "      border-left-color: var(--fill-color);\n",
              "      border-top-color: var(--fill-color);\n",
              "      border-right-color: var(--fill-color);\n",
              "    }\n",
              "    40% {\n",
              "      border-color: transparent;\n",
              "      border-right-color: var(--fill-color);\n",
              "      border-top-color: var(--fill-color);\n",
              "    }\n",
              "    60% {\n",
              "      border-color: transparent;\n",
              "      border-right-color: var(--fill-color);\n",
              "    }\n",
              "    80% {\n",
              "      border-color: transparent;\n",
              "      border-right-color: var(--fill-color);\n",
              "      border-bottom-color: var(--fill-color);\n",
              "    }\n",
              "    90% {\n",
              "      border-color: transparent;\n",
              "      border-bottom-color: var(--fill-color);\n",
              "    }\n",
              "  }\n",
              "</style>\n",
              "\n",
              "      <script>\n",
              "        async function quickchart(key) {\n",
              "          const quickchartButtonEl =\n",
              "            document.querySelector('#' + key + ' button');\n",
              "          quickchartButtonEl.disabled = true;  // To prevent multiple clicks.\n",
              "          quickchartButtonEl.classList.add('colab-df-spinner');\n",
              "          try {\n",
              "            const charts = await google.colab.kernel.invokeFunction(\n",
              "                'suggestCharts', [key], {});\n",
              "          } catch (error) {\n",
              "            console.error('Error during call to suggestCharts:', error);\n",
              "          }\n",
              "          quickchartButtonEl.classList.remove('colab-df-spinner');\n",
              "          quickchartButtonEl.classList.add('colab-df-quickchart-complete');\n",
              "        }\n",
              "        (() => {\n",
              "          let quickchartButtonEl =\n",
              "            document.querySelector('#df-a1f5fe59-5e6d-4d14-a111-a6a0745ff193 button');\n",
              "          quickchartButtonEl.style.display =\n",
              "            google.colab.kernel.accessAllowed ? 'block' : 'none';\n",
              "        })();\n",
              "      </script>\n",
              "    </div>\n",
              "    </div>\n",
              "  </div>\n"
            ],
            "application/vnd.google.colaboratory.intrinsic+json": {
              "type": "dataframe",
              "variable_name": "df"
            }
          },
          "metadata": {},
          "execution_count": 8
        }
      ]
    },
    {
      "cell_type": "code",
      "source": [
        "word_counts = Counter()\n",
        "\n",
        "for i in range(df.shape[0]):\n",
        "  for word in df.loc[i, \"Title\"].split():\n",
        "    word_counts[word] += 1\n",
        "\n",
        "\n",
        "for i in range(df.shape[0]):\n",
        "  for word in df.loc[i, \"FullDescription\"].split():\n",
        "    word_counts[word] += 1"
      ],
      "metadata": {
        "id": "cDwSe04oQlCG"
      },
      "execution_count": 9,
      "outputs": []
    },
    {
      "cell_type": "code",
      "source": [
        "word_counts[\"engineer\"]"
      ],
      "metadata": {
        "colab": {
          "base_uri": "https://localhost:8080/"
        },
        "id": "1GmlcMz_Vgg_",
        "outputId": "a8a06771-05a8-4b77-d390-806920d0813b"
      },
      "execution_count": 10,
      "outputs": [
        {
          "output_type": "execute_result",
          "data": {
            "text/plain": [
              "94623"
            ]
          },
          "metadata": {},
          "execution_count": 10
        }
      ]
    },
    {
      "cell_type": "code",
      "source": [
        "vocab = [\"UNK\", \"PAD\"] + [t for t, c in word_counts.items() if c >= 10]\n",
        "vocab[:5]"
      ],
      "metadata": {
        "colab": {
          "base_uri": "https://localhost:8080/"
        },
        "id": "uXZ3U9lTVnXU",
        "outputId": "f1ef560a-7b40-48db-d888-881a0744e10e"
      },
      "execution_count": 11,
      "outputs": [
        {
          "output_type": "execute_result",
          "data": {
            "text/plain": [
              "['UNK', 'PAD', 'engineering', 'systems', 'analyst']"
            ]
          },
          "metadata": {},
          "execution_count": 11
        }
      ]
    },
    {
      "cell_type": "code",
      "source": [
        "len(vocab)"
      ],
      "metadata": {
        "colab": {
          "base_uri": "https://localhost:8080/"
        },
        "id": "0eZDPTmMw5Wy",
        "outputId": "a9f34ca9-1961-4b4d-b981-0d40ae2184d3"
      },
      "execution_count": 12,
      "outputs": [
        {
          "output_type": "execute_result",
          "data": {
            "text/plain": [
              "34158"
            ]
          },
          "metadata": {},
          "execution_count": 12
        }
      ]
    },
    {
      "cell_type": "code",
      "source": [
        "stoi = {s:i for i, s in enumerate(vocab)}\n",
        "stoi[\"engineering\"]"
      ],
      "metadata": {
        "colab": {
          "base_uri": "https://localhost:8080/"
        },
        "id": "1fWnmmWKxGjQ",
        "outputId": "440c47cc-b7fe-4414-83c3-e69cec048648"
      },
      "execution_count": 13,
      "outputs": [
        {
          "output_type": "execute_result",
          "data": {
            "text/plain": [
              "2"
            ]
          },
          "metadata": {},
          "execution_count": 13
        }
      ]
    },
    {
      "cell_type": "code",
      "source": [
        "def encode_text(text):\n",
        "  res = [stoi.get(word, 0) for word in text.split()]\n",
        "  return res"
      ],
      "metadata": {
        "id": "DcKzqh_7xUQL"
      },
      "execution_count": 14,
      "outputs": []
    },
    {
      "cell_type": "code",
      "source": [
        "encode_text(\"Hello there people and engineers\")"
      ],
      "metadata": {
        "colab": {
          "base_uri": "https://localhost:8080/"
        },
        "id": "LOwg2v3Eybw1",
        "outputId": "a20f982f-58dd-4238-a1d3-759983f7a667"
      },
      "execution_count": 15,
      "outputs": [
        {
          "output_type": "execute_result",
          "data": {
            "text/plain": [
              "[0, 12657, 1841, 9, 62]"
            ]
          },
          "metadata": {},
          "execution_count": 15
        }
      ]
    },
    {
      "cell_type": "code",
      "source": [
        "companies = set(df[\"Company\"])\n",
        "ctoi = {c:i for i, c in enumerate(companies)} # Company to index (fuck this is stupid)\n",
        "df[\"Company\"] = df[\"Company\"].apply(lambda x: ctoi[x])"
      ],
      "metadata": {
        "id": "KxYvETuS8UyM"
      },
      "execution_count": 16,
      "outputs": []
    },
    {
      "cell_type": "markdown",
      "source": [
        "Shape of embedding with batching (yep, we'll split data in batches) should be (B, L, N); B-batch size; L-length of sequence; N-embedding dim.<br>\n",
        "This is a big problem, because we have different lenghts.\n",
        "We definitely should pad it and form batches.<br>\n",
        "But batch should be packed with text embedding and cat feature encoding)"
      ],
      "metadata": {
        "id": "bkHkV4ibyxJz"
      }
    },
    {
      "cell_type": "code",
      "source": [
        "def get_batch(start_idx, batch_size=3, max_len=10):\n",
        "    titles = df.loc[start_idx:start_idx+batch_size-1, \"Title\"]\n",
        "    descs = df.loc[start_idx:start_idx+batch_size-1, \"FullDescription\"]\n",
        "    companies = df.loc[start_idx:start_idx+batch_size-1, \"Company\"]\n",
        "\n",
        "    titles_mat = np.full((batch_size, max_len), 1)  # PAD token\n",
        "    descs_mat = np.full((batch_size, max_len), 1)   # PAD token\n",
        "\n",
        "    titles_enc = titles.apply(lambda x: [stoi.get(w, 0) for w in x.split()])\n",
        "    descs_enc = descs.apply(lambda x: [stoi.get(w, 0) for w in x.split()])\n",
        "\n",
        "    for j in range(batch_size):\n",
        "        stop_j = min(len(titles_enc.iloc[j]), max_len)\n",
        "        titles_mat[j][:stop_j] = titles_enc.iloc[j][:stop_j]\n",
        "\n",
        "    for j in range(batch_size):\n",
        "        stop_j = min(len(descs_enc.iloc[j]), max_len)\n",
        "        descs_mat[j][:stop_j] = descs_enc.iloc[j][:stop_j]\n",
        "\n",
        "    return torch.tensor(titles_mat), torch.tensor(descs_mat), torch.tensor(companies.values)"
      ],
      "metadata": {
        "id": "shqfEcCbzKyN"
      },
      "execution_count": 17,
      "outputs": []
    },
    {
      "cell_type": "code",
      "source": [
        "titles_batch, descs_batch, companies_batch = get_batch(0)\n",
        "titles_batch.shape, descs_batch.shape, companies_batch.shape"
      ],
      "metadata": {
        "colab": {
          "base_uri": "https://localhost:8080/"
        },
        "id": "ZvM34TnG1nT7",
        "outputId": "d91998a5-5837-40a8-c33d-65e449e6ad7f"
      },
      "execution_count": 18,
      "outputs": [
        {
          "output_type": "execute_result",
          "data": {
            "text/plain": [
              "(torch.Size([3, 10]), torch.Size([3, 10]), torch.Size([3]))"
            ]
          },
          "metadata": {},
          "execution_count": 18
        }
      ]
    },
    {
      "cell_type": "code",
      "source": [
        "titles_batch, descs_batch, companies_batch = get_batch(1)\n",
        "titles_batch.shape, descs_batch.shape, companies_batch.shape"
      ],
      "metadata": {
        "colab": {
          "base_uri": "https://localhost:8080/"
        },
        "id": "fDrUXr42P2bv",
        "outputId": "f681e590-f76d-4e21-e410-a8fd63b0b5a5"
      },
      "execution_count": 19,
      "outputs": [
        {
          "output_type": "execute_result",
          "data": {
            "text/plain": [
              "(torch.Size([3, 10]), torch.Size([3, 10]), torch.Size([3]))"
            ]
          },
          "metadata": {},
          "execution_count": 19
        }
      ]
    },
    {
      "cell_type": "code",
      "source": [
        "companies_batch"
      ],
      "metadata": {
        "colab": {
          "base_uri": "https://localhost:8080/"
        },
        "id": "Kv0JzTNH9wCs",
        "outputId": "a6ffb343-ec4a-44a5-fdca-e692ade4e162"
      },
      "execution_count": 20,
      "outputs": [
        {
          "output_type": "execute_result",
          "data": {
            "text/plain": [
              "tensor([14237, 14237, 14237])"
            ]
          },
          "metadata": {},
          "execution_count": 20
        }
      ]
    },
    {
      "cell_type": "code",
      "source": [
        "emb_companies_test = nn.Embedding(len(companies)-1, 16)\n",
        "emb_companies_test(companies_batch).shape"
      ],
      "metadata": {
        "colab": {
          "base_uri": "https://localhost:8080/"
        },
        "id": "9EqDRYdx92Db",
        "outputId": "d094090f-5bb8-4516-a5c3-9fa14e0ca0b5"
      },
      "execution_count": 21,
      "outputs": [
        {
          "output_type": "execute_result",
          "data": {
            "text/plain": [
              "torch.Size([3, 16])"
            ]
          },
          "metadata": {},
          "execution_count": 21
        }
      ]
    },
    {
      "cell_type": "code",
      "source": [
        "emb_test = nn.Embedding(len(vocab)-1, 5)\n",
        "emb_test(titles_batch).shape"
      ],
      "metadata": {
        "colab": {
          "base_uri": "https://localhost:8080/"
        },
        "id": "ViuOluVU5HEX",
        "outputId": "8882ba0b-d508-4e50-9359-5e0c163c1ca4"
      },
      "execution_count": 22,
      "outputs": [
        {
          "output_type": "execute_result",
          "data": {
            "text/plain": [
              "torch.Size([3, 10, 5])"
            ]
          },
          "metadata": {},
          "execution_count": 22
        }
      ]
    },
    {
      "cell_type": "markdown",
      "source": [
        "Okay, things got a bit messy (50/50 chance of fixing this shi)<br>\n",
        "But now everything is super good because we are building model and finally training it!"
      ],
      "metadata": {
        "id": "j5OFmouv-HX-"
      }
    },
    {
      "cell_type": "markdown",
      "source": [
        "![image.png](data:image/png;base64,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)"
      ],
      "metadata": {
        "id": "36il44FTkM7C"
      }
    },
    {
      "cell_type": "code",
      "source": [
        "df[\"FullDescription\"].head()"
      ],
      "metadata": {
        "colab": {
          "base_uri": "https://localhost:8080/",
          "height": 241
        },
        "id": "J3YNlvnwh_hj",
        "outputId": "51067ed4-c824-4660-dbab-5b4185ffcaec"
      },
      "execution_count": 23,
      "outputs": [
        {
          "output_type": "execute_result",
          "data": {
            "text/plain": [
              "0    engineering systems analyst dorking surrey sal...\n",
              "1    stress engineer glasgow salary **** to **** we...\n",
              "2    mathematical modeller / simulation analyst / o...\n",
              "3    engineering systems analyst / mathematical mod...\n",
              "4    pioneer , miser engineering systems analyst do...\n",
              "Name: FullDescription, dtype: object"
            ],
            "text/html": [
              "<div>\n",
              "<style scoped>\n",
              "    .dataframe tbody tr th:only-of-type {\n",
              "        vertical-align: middle;\n",
              "    }\n",
              "\n",
              "    .dataframe tbody tr th {\n",
              "        vertical-align: top;\n",
              "    }\n",
              "\n",
              "    .dataframe thead th {\n",
              "        text-align: right;\n",
              "    }\n",
              "</style>\n",
              "<table border=\"1\" class=\"dataframe\">\n",
              "  <thead>\n",
              "    <tr style=\"text-align: right;\">\n",
              "      <th></th>\n",
              "      <th>FullDescription</th>\n",
              "    </tr>\n",
              "  </thead>\n",
              "  <tbody>\n",
              "    <tr>\n",
              "      <th>0</th>\n",
              "      <td>engineering systems analyst dorking surrey sal...</td>\n",
              "    </tr>\n",
              "    <tr>\n",
              "      <th>1</th>\n",
              "      <td>stress engineer glasgow salary **** to **** we...</td>\n",
              "    </tr>\n",
              "    <tr>\n",
              "      <th>2</th>\n",
              "      <td>mathematical modeller / simulation analyst / o...</td>\n",
              "    </tr>\n",
              "    <tr>\n",
              "      <th>3</th>\n",
              "      <td>engineering systems analyst / mathematical mod...</td>\n",
              "    </tr>\n",
              "    <tr>\n",
              "      <th>4</th>\n",
              "      <td>pioneer , miser engineering systems analyst do...</td>\n",
              "    </tr>\n",
              "  </tbody>\n",
              "</table>\n",
              "</div><br><label><b>dtype:</b> object</label>"
            ]
          },
          "metadata": {},
          "execution_count": 23
        }
      ]
    },
    {
      "cell_type": "code",
      "source": [
        "!pip install gensim"
      ],
      "metadata": {
        "colab": {
          "base_uri": "https://localhost:8080/"
        },
        "id": "cuz8whHCiISy",
        "outputId": "341b3795-ad46-4792-f2a4-b25b37c3f41a"
      },
      "execution_count": 24,
      "outputs": [
        {
          "output_type": "stream",
          "name": "stdout",
          "text": [
            "Requirement already satisfied: gensim in /usr/local/lib/python3.11/dist-packages (4.3.3)\n",
            "Requirement already satisfied: numpy<2.0,>=1.18.5 in /usr/local/lib/python3.11/dist-packages (from gensim) (1.26.4)\n",
            "Requirement already satisfied: scipy<1.14.0,>=1.7.0 in /usr/local/lib/python3.11/dist-packages (from gensim) (1.13.1)\n",
            "Requirement already satisfied: smart-open>=1.8.1 in /usr/local/lib/python3.11/dist-packages (from gensim) (7.1.0)\n",
            "Requirement already satisfied: wrapt in /usr/local/lib/python3.11/dist-packages (from smart-open>=1.8.1->gensim) (1.17.2)\n"
          ]
        }
      ]
    },
    {
      "cell_type": "code",
      "source": [
        "from gensim.models import Word2Vec\n",
        "model = Word2Vec(df[\"FullDescription\"].apply(lambda x: x.split()),\n",
        "                 vector_size=512,      # embedding vector size\n",
        "                 min_count=5,  # consider words that occured at least 5 times\n",
        "                 window=5)"
      ],
      "metadata": {
        "id": "uG633FNBiwm2"
      },
      "execution_count": 34,
      "outputs": []
    },
    {
      "cell_type": "code",
      "source": [
        "model.wv.most_similar(\"engineer\")"
      ],
      "metadata": {
        "colab": {
          "base_uri": "https://localhost:8080/"
        },
        "id": "k_1YJf2BkUnX",
        "outputId": "25bf6004-a032-4da7-ea43-f9bb363c70d7"
      },
      "execution_count": 35,
      "outputs": [
        {
          "output_type": "execute_result",
          "data": {
            "text/plain": [
              "[('technician', 0.6410525441169739),\n",
              " ('engineers', 0.5921123623847961),\n",
              " ('draughtsman', 0.5321414470672607),\n",
              " ('analyst', 0.5320540070533752),\n",
              " ('developer', 0.5251156091690063),\n",
              " ('draughtsperson', 0.5217775106430054),\n",
              " ('estimator', 0.5207532644271851),\n",
              " ('tester', 0.5191301703453064),\n",
              " ('fitter', 0.5086554288864136),\n",
              " ('inspector', 0.49602964520454407)]"
            ]
          },
          "metadata": {},
          "execution_count": 35
        }
      ]
    },
    {
      "cell_type": "code",
      "source": [
        "word_vectors = model.wv.vectors\n",
        "weights = torch.FloatTensor(word_vectors)"
      ],
      "metadata": {
        "id": "I8NH85UbkY_t"
      },
      "execution_count": 39,
      "outputs": []
    },
    {
      "cell_type": "code",
      "source": [
        "class SalaryPredictor(nn.Module):\n",
        "  def __init__(self, comp_size, vocab_size, comp_emb_dim):\n",
        "    super().__init__()\n",
        "    self.comp_emb = nn.Embedding(comp_size, comp_emb_dim)\n",
        "    self.word_emb = nn.Embedding.from_pretrained(weights, freeze=False)\n",
        "\n",
        "    self.title_enc = nn.Sequential(\n",
        "        nn.Conv1d(512, 64, kernel_size=3),  # 8 trigrams\n",
        "        nn.ReLU(),\n",
        "        nn.Conv1d(64, 128, kernel_size=3)  # 6 something-grams?\n",
        "    )\n",
        "\n",
        "    self.desc_enc = nn.Sequential(\n",
        "        nn.Conv1d(512, 64, kernel_size=3),\n",
        "        nn.ReLU(),\n",
        "        nn.Conv1d(64, 128, kernel_size=3)\n",
        "    )\n",
        "\n",
        "    self.final = nn.Sequential(\n",
        "        nn.Linear(256+comp_emb_dim, 128),\n",
        "        nn.ReLU(),\n",
        "        nn.Linear(128, 1)\n",
        "    )\n",
        "\n",
        "  def forward(self, title_batch, desc_batch, comp_batch):\n",
        "    # Title batch has a shape of (B, L, N)\n",
        "    # N is the embedding dim and number of channels\n",
        "    # But torch requires it to be earlier\n",
        "    title_batch = self.word_emb(title_batch)\n",
        "    desc_batch = self.word_emb(desc_batch)\n",
        "\n",
        "    # print(title_batch.dtype, desc_batch.dtype)\n",
        "\n",
        "    title_batch = title_batch.permute(0, 2, 1)  # (B, N, L)\n",
        "    desc_batch = desc_batch.permute(0, 2, 1)  # (B, N, L)\n",
        "\n",
        "    title_encs = self.title_enc(title_batch)  # (B, 128, 6)\n",
        "    desc_encs = self.desc_enc(desc_batch)  # (B, 128, 6)\n",
        "\n",
        "    # print(title_encs.dtype, desc_encs.dtype)\n",
        "\n",
        "\n",
        "    # Global max pooling\n",
        "    title_vecs = torch.max(title_encs, dim=-1).values  # (B, 128) representation\n",
        "    desc_vecs = torch.max(desc_encs, dim=-1).values  # (B, 128) representation\n",
        "\n",
        "    # print(title_vecs.dtype, desc_vecs.dtype)\n",
        "\n",
        "    companies_vecs = self.comp_emb(comp_batch)  # (B, comp_emb_dim)\n",
        "    enc = torch.cat([title_vecs, desc_vecs, companies_vecs], dim=1)\n",
        "\n",
        "    # Final layers\n",
        "    result = self.final(enc)  # (B, 1)\n",
        "    return result"
      ],
      "metadata": {
        "id": "XqOFNamr-W7e"
      },
      "execution_count": 40,
      "outputs": []
    },
    {
      "cell_type": "code",
      "source": [
        "model = SalaryPredictor(len(companies), len(vocab), 10).to(device)\n",
        "loss_fn = nn.MSELoss()\n",
        "optimizer = optim.Adam(model.parameters(), lr=0.001)"
      ],
      "metadata": {
        "id": "_EUxGHAskNOS"
      },
      "execution_count": 44,
      "outputs": []
    },
    {
      "cell_type": "code",
      "source": [
        "targets = torch.tensor(df[\"SalaryNormalized\"]).to(device).to(torch.float32)\n",
        "targets[:6]"
      ],
      "metadata": {
        "colab": {
          "base_uri": "https://localhost:8080/"
        },
        "id": "FKqADhQ1L8sZ",
        "outputId": "d74f2702-d33c-4007-d1e3-437ca774d0cb"
      },
      "execution_count": 45,
      "outputs": [
        {
          "output_type": "execute_result",
          "data": {
            "text/plain": [
              "tensor([10.1266, 10.3090, 10.3090, 10.2219, 10.1266, 10.1266], device='cuda:0')"
            ]
          },
          "metadata": {},
          "execution_count": 45
        }
      ]
    },
    {
      "cell_type": "code",
      "source": [
        "EPOCHS = 2\n",
        "batch_size = 6\n",
        "\n",
        "for epoch in range(EPOCHS):\n",
        "  for i in tqdm(range(df.shape[0]-7)):\n",
        "    titles_batch, descs_batch, comps_batch = get_batch(i, batch_size, max_len=12)\n",
        "    targets_batch = targets[i:i+batch_size].unsqueeze(1)\n",
        "    titles_batch = titles_batch.to(device)\n",
        "    descs_batch = descs_batch.to(device)\n",
        "    comps_batch = comps_batch.to(device)\n",
        "\n",
        "    results = model(titles_batch, descs_batch, comps_batch)\n",
        "    loss = loss_fn(results, targets_batch)\n",
        "    optimizer.zero_grad()\n",
        "    loss.backward()\n",
        "    optimizer.step()\n",
        "\n",
        "    if i % 50000 == 0:\n",
        "      print(f\"{i}: {loss.item()}\")"
      ],
      "metadata": {
        "colab": {
          "base_uri": "https://localhost:8080/"
        },
        "id": "czt8X94lIuh9",
        "outputId": "ab568e4c-4b5c-4dba-9486-5bb67e8dc01e"
      },
      "execution_count": 46,
      "outputs": [
        {
          "output_type": "stream",
          "name": "stderr",
          "text": [
            "  0%|          | 12/244761 [00:00<1:07:39, 60.29it/s]"
          ]
        },
        {
          "output_type": "stream",
          "name": "stdout",
          "text": [
            "0: 102.16111755371094\n"
          ]
        },
        {
          "output_type": "stream",
          "name": "stderr",
          "text": [
            " 20%|██        | 50010/244761 [10:29<41:25, 78.36it/s]"
          ]
        },
        {
          "output_type": "stream",
          "name": "stdout",
          "text": [
            "50000: 0.0959431529045105\n"
          ]
        },
        {
          "output_type": "stream",
          "name": "stderr",
          "text": [
            " 41%|████      | 100011/244761 [20:58<29:47, 80.99it/s]"
          ]
        },
        {
          "output_type": "stream",
          "name": "stdout",
          "text": [
            "100000: 0.02807956002652645\n"
          ]
        },
        {
          "output_type": "stream",
          "name": "stderr",
          "text": [
            " 61%|██████▏   | 150012/244761 [31:26<19:39, 80.35it/s]"
          ]
        },
        {
          "output_type": "stream",
          "name": "stdout",
          "text": [
            "150000: 0.027174796909093857\n"
          ]
        },
        {
          "output_type": "stream",
          "name": "stderr",
          "text": [
            " 82%|████████▏ | 200017/244761 [41:58<09:18, 80.09it/s]"
          ]
        },
        {
          "output_type": "stream",
          "name": "stdout",
          "text": [
            "200000: 0.06269191205501556\n"
          ]
        },
        {
          "output_type": "stream",
          "name": "stderr",
          "text": [
            "100%|██████████| 244761/244761 [51:23<00:00, 79.38it/s]\n",
            "  0%|          | 18/244761 [00:00<49:38, 82.16it/s]"
          ]
        },
        {
          "output_type": "stream",
          "name": "stdout",
          "text": [
            "0: 0.01657142862677574\n"
          ]
        },
        {
          "output_type": "stream",
          "name": "stderr",
          "text": [
            " 20%|██        | 50014/244761 [10:26<40:09, 80.82it/s]"
          ]
        },
        {
          "output_type": "stream",
          "name": "stdout",
          "text": [
            "50000: 0.11730541288852692\n"
          ]
        },
        {
          "output_type": "stream",
          "name": "stderr",
          "text": [
            " 41%|████      | 100011/244761 [20:50<29:54, 80.66it/s]"
          ]
        },
        {
          "output_type": "stream",
          "name": "stdout",
          "text": [
            "100000: 0.03483239933848381\n"
          ]
        },
        {
          "output_type": "stream",
          "name": "stderr",
          "text": [
            " 61%|██████▏   | 150014/244761 [31:13<19:33, 80.76it/s]"
          ]
        },
        {
          "output_type": "stream",
          "name": "stdout",
          "text": [
            "150000: 0.033239830285310745\n"
          ]
        },
        {
          "output_type": "stream",
          "name": "stderr",
          "text": [
            " 82%|████████▏ | 200015/244761 [41:42<09:10, 81.29it/s]"
          ]
        },
        {
          "output_type": "stream",
          "name": "stdout",
          "text": [
            "200000: 0.053411372005939484\n"
          ]
        },
        {
          "output_type": "stream",
          "name": "stderr",
          "text": [
            "100%|██████████| 244761/244761 [50:59<00:00, 79.99it/s]\n"
          ]
        }
      ]
    },
    {
      "cell_type": "code",
      "source": [
        "df.shape[0]"
      ],
      "metadata": {
        "colab": {
          "base_uri": "https://localhost:8080/"
        },
        "id": "uDa5NqHaJLSp",
        "outputId": "4e4113cf-0e9e-4aa6-d5f7-69421f69ae41"
      },
      "execution_count": 47,
      "outputs": [
        {
          "output_type": "execute_result",
          "data": {
            "text/plain": [
              "244768"
            ]
          },
          "metadata": {},
          "execution_count": 47
        }
      ]
    },
    {
      "cell_type": "code",
      "source": [
        "def predict(title, description, company):\n",
        "  if len(title.split()) < 12:\n",
        "    title += \" PAD \" * (12 - len(title.split()))\n",
        "\n",
        "  if len(description.split()) < 12:\n",
        "    description += \" PAD \" * (12 - len(description.split()))\n",
        "\n",
        "  title = [stoi.get(w.lower(), 1) for w in title.split()]\n",
        "  desc = [stoi.get(w.lower(), 1) for w in description.split()]\n",
        "\n",
        "  title = torch.tensor(title).unsqueeze(0).to(device)\n",
        "  desc = torch.tensor(desc).unsqueeze(0).to(device)\n",
        "  comp = torch.tensor([ctoi[company]]).to(device)\n",
        "\n",
        "  model.eval()\n",
        "  pred = model(title, desc, comp)\n",
        "\n",
        "  return f\"{torch.exp(pred).item()}$\""
      ],
      "metadata": {
        "id": "NcSIJN_bTGWr"
      },
      "execution_count": 65,
      "outputs": []
    },
    {
      "cell_type": "code",
      "source": [
        "predict(\"Junior Deep Learning engineer\", \"PyTorch , TensorFlow , OpenCV\", list(companies)[0])"
      ],
      "metadata": {
        "colab": {
          "base_uri": "https://localhost:8080/",
          "height": 35
        },
        "id": "H_KHH8GHal_w",
        "outputId": "24a79af1-6782-4341-cc4f-d4c09a257041"
      },
      "execution_count": 66,
      "outputs": [
        {
          "output_type": "execute_result",
          "data": {
            "text/plain": [
              "'31698.39453125$'"
            ],
            "application/vnd.google.colaboratory.intrinsic+json": {
              "type": "string"
            }
          },
          "metadata": {},
          "execution_count": 66
        }
      ]
    },
    {
      "cell_type": "code",
      "source": [
        "predict(\"Junior farmer\", \"combine driver , driver license , hard working\", list(companies)[0])"
      ],
      "metadata": {
        "colab": {
          "base_uri": "https://localhost:8080/",
          "height": 35
        },
        "id": "RfCIl8DwcoM0",
        "outputId": "e8afb337-85ba-48d9-c15d-126007f4d1e3"
      },
      "execution_count": 68,
      "outputs": [
        {
          "output_type": "execute_result",
          "data": {
            "text/plain": [
              "'25889.197265625$'"
            ],
            "application/vnd.google.colaboratory.intrinsic+json": {
              "type": "string"
            }
          },
          "metadata": {},
          "execution_count": 68
        }
      ]
    },
    {
      "cell_type": "code",
      "source": [
        "title = \"Chief Quantum Architect & Interstellar AI developer Deep Learning\"\n",
        "description = \"\"\"\n",
        "AI engineer software AI programmer python java c++ c physics bachelor at MIT\n",
        "applied math professor bank finance money rich effective smart clever communicative kind\n",
        "\"\"\""
      ],
      "metadata": {
        "id": "4ncyVHbwdvCo"
      },
      "execution_count": 69,
      "outputs": []
    },
    {
      "cell_type": "code",
      "source": [
        "predict(title, description, list(companies)[101])"
      ],
      "metadata": {
        "colab": {
          "base_uri": "https://localhost:8080/",
          "height": 35
        },
        "id": "gHSYACPadzHf",
        "outputId": "31353648-b0ce-422c-fd5b-30975c229bf9"
      },
      "execution_count": 70,
      "outputs": [
        {
          "output_type": "execute_result",
          "data": {
            "text/plain": [
              "'31698.39453125$'"
            ],
            "application/vnd.google.colaboratory.intrinsic+json": {
              "type": "string"
            }
          },
          "metadata": {},
          "execution_count": 70
        }
      ]
    },
    {
      "cell_type": "code",
      "source": [
        "stoi[\"kind\"]"
      ],
      "metadata": {
        "colab": {
          "base_uri": "https://localhost:8080/"
        },
        "id": "NnXot9HnfEux",
        "outputId": "db021446-9160-4ceb-be19-13d04aca9d1d"
      },
      "execution_count": 64,
      "outputs": [
        {
          "output_type": "execute_result",
          "data": {
            "text/plain": [
              "12690"
            ]
          },
          "metadata": {},
          "execution_count": 64
        }
      ]
    },
    {
      "cell_type": "markdown",
      "source": [
        "# It works but it's fucking garbage."
      ],
      "metadata": {
        "id": "pf8KcgI2GJVM"
      }
    }
  ]
}